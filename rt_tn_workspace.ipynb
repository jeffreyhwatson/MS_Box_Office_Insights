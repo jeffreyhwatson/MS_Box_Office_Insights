{
 "cells": [
  {
   "cell_type": "code",
   "execution_count": 1,
   "metadata": {},
   "outputs": [],
   "source": [
    "#loading libraries\n",
    "import pandas as pd\n",
    "import numpy as np\n",
    "import matplotlib.pyplot as plt\n",
    "import seaborn as sns\n",
    "\n",
    "# setting plt to inline\n",
    "%matplotlib inline"
   ]
  },
  {
   "cell_type": "code",
   "execution_count": 2,
   "metadata": {},
   "outputs": [],
   "source": [
    "# importing sqlite3\n",
    "import sqlite3\n",
    "\n",
    "# conneting to db and creating cursor\n",
    "conn = sqlite3.Connection('data/movies.db')\n",
    "cur = conn.cursor()\n",
    "\n",
    "# creating query functions\n",
    "def fetcha(q):\n",
    "    return cur.execute(q).fetchall()\n",
    "def fetcho(q):\n",
    "    return cur.execute(q).fetchone()"
   ]
  },
  {
   "cell_type": "code",
   "execution_count": 3,
   "metadata": {},
   "outputs": [
    {
     "data": {
      "text/plain": [
       "[('bom_movie_gross',),\n",
       " ('imdb_name_basic',),\n",
       " ('imdb_name_basics',),\n",
       " ('imdb_title_akas',),\n",
       " ('imdb_title_basics',),\n",
       " ('imdb_title_crew',),\n",
       " ('imdb_title_principals',),\n",
       " ('imdb_title_ratings',),\n",
       " ('rotten_tomatoes_critic_reviews',),\n",
       " ('rotten_tomatoes_movies',),\n",
       " ('tmdb_movies',),\n",
       " ('tn_movie_budgets',)]"
      ]
     },
     "execution_count": 3,
     "metadata": {},
     "output_type": "execute_result"
    }
   ],
   "source": [
    "# getting table names\n",
    "q = \"\"\"SELECT name FROM sqlite_master \n",
    "WHERE type IN ('table','view') \n",
    "AND name NOT LIKE 'sqlite_%'\n",
    "ORDER BY 1\"\"\"\n",
    "fetcha(q)"
   ]
  },
  {
   "cell_type": "code",
   "execution_count": 5,
   "metadata": {},
   "outputs": [
    {
     "data": {
      "text/plain": [
       "[(0, 'idx', 'INTEGER', 0, None, 1),\n",
       " (1, 'rotten_tomatoes_link', 'TEXT', 0, None, 0),\n",
       " (2, 'movie_title', 'TEXT', 0, None, 0),\n",
       " (3, 'movie_info', 'TEXT', 0, None, 0),\n",
       " (4, 'critics_consensus', 'TEXT', 0, None, 0),\n",
       " (5, 'content_rating', 'TEXT', 0, None, 0),\n",
       " (6, 'genres', 'TEXT', 0, None, 0),\n",
       " (7, 'directors', 'TEXT', 0, None, 0),\n",
       " (8, 'authors', 'TEXT', 0, None, 0),\n",
       " (9, 'actors', 'TEXT', 0, None, 0),\n",
       " (10, 'original_release_date', 'TEXT', 0, None, 0),\n",
       " (11, 'streaming_release_date', 'TEXT', 0, None, 0),\n",
       " (12, 'runtime', 'REAL', 0, None, 0),\n",
       " (13, 'production_company', 'TEXT', 0, None, 0),\n",
       " (14, 'tomatometer_status', 'TEXT', 0, None, 0),\n",
       " (15, 'tomatometer_rating', 'REAL', 0, None, 0),\n",
       " (16, 'tomatometer_count', 'REAL', 0, None, 0),\n",
       " (17, 'audience_status', 'TEXT', 0, None, 0),\n",
       " (18, 'audience_rating', 'REAL', 0, None, 0),\n",
       " (19, 'audience_count', 'REAL', 0, None, 0),\n",
       " (20, 'tomatometer_top_critics_count', 'INTEGER', 0, None, 0),\n",
       " (21, 'tomatometer_fresh_critics_count', 'INTEGER', 0, None, 0),\n",
       " (22, 'tomatometer_rotten_critics_count', 'INTEGER', 0, None, 0)]"
      ]
     },
     "execution_count": 5,
     "metadata": {},
     "output_type": "execute_result"
    }
   ],
   "source": [
    "q = \"PRAGMA table_info('rotten_tomatoes_movies')\"\n",
    "fetcha(q)"
   ]
  },
  {
   "cell_type": "code",
   "execution_count": 6,
   "metadata": {},
   "outputs": [
    {
     "data": {
      "text/plain": [
       "[(0, 'idx', 'INTEGER', 0, None, 1),\n",
       " (1, 'id', 'INTEGER', 0, None, 0),\n",
       " (2, 'release_date', 'TEXT', 0, None, 0),\n",
       " (3, 'movie', 'TEXT', 0, None, 0),\n",
       " (4, 'production_budget', 'TEXT', 0, None, 0),\n",
       " (5, 'domestic_gross', 'TEXT', 0, None, 0),\n",
       " (6, 'worldwide_gross', 'TEXT', 0, None, 0)]"
      ]
     },
     "execution_count": 6,
     "metadata": {},
     "output_type": "execute_result"
    }
   ],
   "source": [
    "q = \"PRAGMA table_info('tn_movie_budgets')\"\n",
    "fetcha(q)"
   ]
  },
  {
   "cell_type": "code",
   "execution_count": 10,
   "metadata": {},
   "outputs": [
    {
     "data": {
      "text/html": [
       "<div>\n",
       "<style scoped>\n",
       "    .dataframe tbody tr th:only-of-type {\n",
       "        vertical-align: middle;\n",
       "    }\n",
       "\n",
       "    .dataframe tbody tr th {\n",
       "        vertical-align: top;\n",
       "    }\n",
       "\n",
       "    .dataframe thead th {\n",
       "        text-align: right;\n",
       "    }\n",
       "</style>\n",
       "<table border=\"1\" class=\"dataframe\">\n",
       "  <thead>\n",
       "    <tr style=\"text-align: right;\">\n",
       "      <th></th>\n",
       "      <th>idx</th>\n",
       "      <th>rotten_tomatoes_link</th>\n",
       "      <th>movie_title</th>\n",
       "      <th>movie_info</th>\n",
       "      <th>critics_consensus</th>\n",
       "      <th>content_rating</th>\n",
       "      <th>genres</th>\n",
       "      <th>directors</th>\n",
       "      <th>authors</th>\n",
       "      <th>actors</th>\n",
       "      <th>...</th>\n",
       "      <th>tomatometer_top_critics_count</th>\n",
       "      <th>tomatometer_fresh_critics_count</th>\n",
       "      <th>tomatometer_rotten_critics_count</th>\n",
       "      <th>idx</th>\n",
       "      <th>id</th>\n",
       "      <th>release_date</th>\n",
       "      <th>movie</th>\n",
       "      <th>production_budget</th>\n",
       "      <th>domestic_gross</th>\n",
       "      <th>worldwide_gross</th>\n",
       "    </tr>\n",
       "  </thead>\n",
       "  <tbody>\n",
       "    <tr>\n",
       "      <th>0</th>\n",
       "      <td>0</td>\n",
       "      <td>m/0814255</td>\n",
       "      <td>Percy Jackson &amp; the Olympians: The Lightning T...</td>\n",
       "      <td>Always trouble-prone, the life of teenager Per...</td>\n",
       "      <td>Though it may seem like just another Harry Pot...</td>\n",
       "      <td>PG</td>\n",
       "      <td>Action &amp; Adventure, Comedy, Drama, Science Fic...</td>\n",
       "      <td>Chris Columbus</td>\n",
       "      <td>Craig Titley, Chris Columbus, Rick Riordan</td>\n",
       "      <td>Logan Lerman, Brandon T. Jackson, Alexandra Da...</td>\n",
       "      <td>...</td>\n",
       "      <td>43</td>\n",
       "      <td>73</td>\n",
       "      <td>76</td>\n",
       "      <td>416</td>\n",
       "      <td>17</td>\n",
       "      <td>Feb 12, 2010</td>\n",
       "      <td>Percy Jackson &amp; the Olympians: The Lightning T...</td>\n",
       "      <td>$95,000,000</td>\n",
       "      <td>$88,768,303</td>\n",
       "      <td>$223,050,874</td>\n",
       "    </tr>\n",
       "  </tbody>\n",
       "</table>\n",
       "<p>1 rows × 30 columns</p>\n",
       "</div>"
      ],
      "text/plain": [
       "  idx rotten_tomatoes_link                                        movie_title  \\\n",
       "0   0            m/0814255  Percy Jackson & the Olympians: The Lightning T...   \n",
       "\n",
       "                                          movie_info  \\\n",
       "0  Always trouble-prone, the life of teenager Per...   \n",
       "\n",
       "                                   critics_consensus content_rating  \\\n",
       "0  Though it may seem like just another Harry Pot...             PG   \n",
       "\n",
       "                                              genres       directors  \\\n",
       "0  Action & Adventure, Comedy, Drama, Science Fic...  Chris Columbus   \n",
       "\n",
       "                                      authors  \\\n",
       "0  Craig Titley, Chris Columbus, Rick Riordan   \n",
       "\n",
       "                                              actors  ...  \\\n",
       "0  Logan Lerman, Brandon T. Jackson, Alexandra Da...  ...   \n",
       "\n",
       "  tomatometer_top_critics_count tomatometer_fresh_critics_count  \\\n",
       "0                            43                              73   \n",
       "\n",
       "   tomatometer_rotten_critics_count  idx  id  release_date  \\\n",
       "0                                76  416  17  Feb 12, 2010   \n",
       "\n",
       "                                               movie production_budget  \\\n",
       "0  Percy Jackson & the Olympians: The Lightning T...       $95,000,000   \n",
       "\n",
       "   domestic_gross  worldwide_gross  \n",
       "0     $88,768,303     $223,050,874  \n",
       "\n",
       "[1 rows x 30 columns]"
      ]
     },
     "execution_count": 10,
     "metadata": {},
     "output_type": "execute_result"
    }
   ],
   "source": [
    "# creating initial dataframe by joining the four tables and printing first row\n",
    "q = \"\"\"SELECT*FROM rotten_tomatoes_movies AS rt\n",
    "       JOIN tn_movie_budgets AS tn\n",
    "       ON rt.movie_title = tn.movie\n",
    "       \n",
    "       \"\"\"\n",
    "df = pd.DataFrame(fetcha(q))\n",
    "df.columns = [i[0] for i in cur.description]\n",
    "df.head(1)     "
   ]
  },
  {
   "cell_type": "code",
   "execution_count": 11,
   "metadata": {},
   "outputs": [
    {
     "data": {
      "text/html": [
       "<div>\n",
       "<style scoped>\n",
       "    .dataframe tbody tr th:only-of-type {\n",
       "        vertical-align: middle;\n",
       "    }\n",
       "\n",
       "    .dataframe tbody tr th {\n",
       "        vertical-align: top;\n",
       "    }\n",
       "\n",
       "    .dataframe thead th {\n",
       "        text-align: right;\n",
       "    }\n",
       "</style>\n",
       "<table border=\"1\" class=\"dataframe\">\n",
       "  <thead>\n",
       "    <tr style=\"text-align: right;\">\n",
       "      <th></th>\n",
       "      <th>idx</th>\n",
       "      <th>rotten_tomatoes_link</th>\n",
       "      <th>movie_title</th>\n",
       "      <th>movie_info</th>\n",
       "      <th>critics_consensus</th>\n",
       "      <th>content_rating</th>\n",
       "      <th>genres</th>\n",
       "      <th>directors</th>\n",
       "      <th>authors</th>\n",
       "      <th>actors</th>\n",
       "      <th>...</th>\n",
       "      <th>tomatometer_top_critics_count</th>\n",
       "      <th>tomatometer_fresh_critics_count</th>\n",
       "      <th>tomatometer_rotten_critics_count</th>\n",
       "      <th>idx</th>\n",
       "      <th>id</th>\n",
       "      <th>release_date</th>\n",
       "      <th>movie</th>\n",
       "      <th>production_budget</th>\n",
       "      <th>domestic_gross</th>\n",
       "      <th>worldwide_gross</th>\n",
       "    </tr>\n",
       "  </thead>\n",
       "  <tbody>\n",
       "    <tr>\n",
       "      <th>2785</th>\n",
       "      <td>9910</td>\n",
       "      <td>m/mad_max</td>\n",
       "      <td>Mad Max</td>\n",
       "      <td>In a not-too-distant dystopian future, when ma...</td>\n",
       "      <td>Staging the improbable car stunts and crashes ...</td>\n",
       "      <td>R</td>\n",
       "      <td>Action &amp; Adventure, Cult Movies, Science Ficti...</td>\n",
       "      <td>George Miller</td>\n",
       "      <td>James McCausland, George Miller</td>\n",
       "      <td>Mel Gibson, Joanne Samuel, Tim Burns, Hugh Kea...</td>\n",
       "      <td>...</td>\n",
       "      <td>7</td>\n",
       "      <td>56</td>\n",
       "      <td>6</td>\n",
       "      <td>5613</td>\n",
       "      <td>14</td>\n",
       "      <td>Mar 21, 1980</td>\n",
       "      <td>Mad Max</td>\n",
       "      <td>$200,000</td>\n",
       "      <td>$8,750,000</td>\n",
       "      <td>$99,750,000</td>\n",
       "    </tr>\n",
       "  </tbody>\n",
       "</table>\n",
       "<p>1 rows × 30 columns</p>\n",
       "</div>"
      ],
      "text/plain": [
       "       idx rotten_tomatoes_link movie_title  \\\n",
       "2785  9910            m/mad_max     Mad Max   \n",
       "\n",
       "                                             movie_info  \\\n",
       "2785  In a not-too-distant dystopian future, when ma...   \n",
       "\n",
       "                                      critics_consensus content_rating  \\\n",
       "2785  Staging the improbable car stunts and crashes ...              R   \n",
       "\n",
       "                                                 genres      directors  \\\n",
       "2785  Action & Adventure, Cult Movies, Science Ficti...  George Miller   \n",
       "\n",
       "                              authors  \\\n",
       "2785  James McCausland, George Miller   \n",
       "\n",
       "                                                 actors  ...  \\\n",
       "2785  Mel Gibson, Joanne Samuel, Tim Burns, Hugh Kea...  ...   \n",
       "\n",
       "     tomatometer_top_critics_count tomatometer_fresh_critics_count  \\\n",
       "2785                             7                              56   \n",
       "\n",
       "      tomatometer_rotten_critics_count   idx  id  release_date    movie  \\\n",
       "2785                                 6  5613  14  Mar 21, 1980  Mad Max   \n",
       "\n",
       "     production_budget  domestic_gross  worldwide_gross  \n",
       "2785          $200,000      $8,750,000      $99,750,000  \n",
       "\n",
       "[1 rows x 30 columns]"
      ]
     },
     "execution_count": 11,
     "metadata": {},
     "output_type": "execute_result"
    }
   ],
   "source": [
    "df.loc[df['movie_title'] == 'Mad Max']"
   ]
  },
  {
   "cell_type": "code",
   "execution_count": 28,
   "metadata": {},
   "outputs": [
    {
     "data": {
      "text/plain": [
       "[['Action & Adventure', ' Comedy', ' Drama', ' Science Fiction & Fantasy'],\n",
       " ['Comedy'],\n",
       " ['Action & Adventure', ' Classics', ' Drama'],\n",
       " ['Classics', ' Drama', ' Western'],\n",
       " ['Art House & International', ' Horror', ' Mystery & Suspense']]"
      ]
     },
     "execution_count": 28,
     "metadata": {},
     "output_type": "execute_result"
    }
   ],
   "source": [
    "split_list = []\n",
    "for genre in df.genres:\n",
    "    split_list.append(genre.split(','))\n",
    "    \n",
    "split_list[:5]"
   ]
  },
  {
   "cell_type": "code",
   "execution_count": 36,
   "metadata": {},
   "outputs": [
    {
     "data": {
      "text/plain": [
       "['Science Fiction & Fantasy',\n",
       " ' Horror',\n",
       " ' Faith & Spirituality',\n",
       " ' Art House & International',\n",
       " ' Comedy',\n",
       " ' Science Fiction & Fantasy',\n",
       " 'Kids & Family',\n",
       " 'Animation',\n",
       " ' Sports & Fitness',\n",
       " ' Special Interest',\n",
       " ' Musical & Performing Arts',\n",
       " 'Romance',\n",
       " ' Animation',\n",
       " 'Drama',\n",
       " ' Western',\n",
       " ' Cult Movies',\n",
       " 'Cult Movies',\n",
       " 'Art House & International',\n",
       " ' Mystery & Suspense',\n",
       " ' Romance',\n",
       " ' Anime & Manga',\n",
       " 'Documentary',\n",
       " 'Classics',\n",
       " 'Western',\n",
       " ' Classics',\n",
       " 'Comedy',\n",
       " ' Documentary',\n",
       " 'Mystery & Suspense',\n",
       " 'Musical & Performing Arts',\n",
       " ' Kids & Family',\n",
       " ' Television',\n",
       " ' Drama',\n",
       " 'Horror',\n",
       " ' Gay & Lesbian',\n",
       " 'Action & Adventure']"
      ]
     },
     "execution_count": 36,
     "metadata": {},
     "output_type": "execute_result"
    }
   ],
   "source": [
    "collected_list = []\n",
    "for _list in split_list:\n",
    "    for i in range(len(_list)):\n",
    "        collected_list.append(_list[i])\n",
    "genres_list = list(set(collected_list))\n",
    "genres_list"
   ]
  },
  {
   "cell_type": "code",
   "execution_count": null,
   "metadata": {},
   "outputs": [],
   "source": []
  }
 ],
 "metadata": {
  "kernelspec": {
   "display_name": "learn-env",
   "language": "python",
   "name": "learn-env"
  },
  "language_info": {
   "codemirror_mode": {
    "name": "ipython",
    "version": 3
   },
   "file_extension": ".py",
   "mimetype": "text/x-python",
   "name": "python",
   "nbconvert_exporter": "python",
   "pygments_lexer": "ipython3",
   "version": "3.8.5"
  }
 },
 "nbformat": 4,
 "nbformat_minor": 4
}
