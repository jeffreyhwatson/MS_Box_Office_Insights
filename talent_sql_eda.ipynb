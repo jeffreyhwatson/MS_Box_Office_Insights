{
 "cells": [
  {
   "cell_type": "code",
   "execution_count": 1,
   "metadata": {},
   "outputs": [],
   "source": [
    "#loading libraries\n",
    "import pandas as pd\n",
    "import numpy as np\n",
    "import matplotlib.pyplot as plt\n",
    "import seaborn as sns\n",
    "\n",
    "# setting plt to inline\n",
    "%matplotlib inline"
   ]
  },
  {
   "cell_type": "code",
   "execution_count": 2,
   "metadata": {},
   "outputs": [],
   "source": [
    "# importing sqlite3\n",
    "import sqlite3\n",
    "\n",
    "# conneting to db and creating cursor\n",
    "conn = sqlite3.Connection('data/movies.db')\n",
    "cur = conn.cursor()\n",
    "\n",
    "# creating query functions\n",
    "def fetcha(q):\n",
    "    return cur.execute(q).fetchall()\n",
    "def fetcho(q):\n",
    "    return cur.execute(q).fetchone()"
   ]
  },
  {
   "cell_type": "code",
   "execution_count": 3,
   "metadata": {},
   "outputs": [
    {
     "data": {
      "text/plain": [
       "[('bom_movie_gross',),\n",
       " ('imdb_name_basic',),\n",
       " ('imdb_name_basics',),\n",
       " ('imdb_title_akas',),\n",
       " ('imdb_title_basics',),\n",
       " ('imdb_title_crew',),\n",
       " ('imdb_title_principals',),\n",
       " ('imdb_title_ratings',),\n",
       " ('rotten_tomatoes_critic_reviews',),\n",
       " ('rotten_tomatoes_movies',),\n",
       " ('tmdb_movies',),\n",
       " ('tn_movie_budgets',)]"
      ]
     },
     "execution_count": 3,
     "metadata": {},
     "output_type": "execute_result"
    }
   ],
   "source": [
    "# getting table names\n",
    "q = \"\"\"SELECT name FROM sqlite_master \n",
    "WHERE type IN ('table','view') \n",
    "AND name NOT LIKE 'sqlite_%'\n",
    "ORDER BY 1\"\"\"\n",
    "fetcha(q)"
   ]
  },
  {
   "cell_type": "code",
   "execution_count": 4,
   "metadata": {},
   "outputs": [
    {
     "data": {
      "text/plain": [
       "[(0, 'idx', 'INTEGER', 0, None, 1),\n",
       " (1, 'tconst', 'TEXT', 0, None, 0),\n",
       " (2, 'ordering', 'INTEGER', 0, None, 0),\n",
       " (3, 'nconst', 'TEXT', 0, None, 0),\n",
       " (4, 'category', 'TEXT', 0, None, 0),\n",
       " (5, 'job', 'TEXT', 0, None, 0),\n",
       " (6, 'characters', 'TEXT', 0, None, 0)]"
      ]
     },
     "execution_count": 4,
     "metadata": {},
     "output_type": "execute_result"
    }
   ],
   "source": [
    "q = \"PRAGMA table_info('imdb_title_principals')\"\n",
    "fetcha(q)"
   ]
  },
  {
   "cell_type": "code",
   "execution_count": 5,
   "metadata": {},
   "outputs": [
    {
     "data": {
      "text/plain": [
       "[(0, 'idx', 'INTEGER', 0, None, 0),\n",
       " (1, 'nconst', 'TEXT', 0, None, 0),\n",
       " (2, 'primary_name', 'TEXT', 0, None, 0),\n",
       " (3, 'birth_year', 'REAL', 0, None, 0),\n",
       " (4, 'death_year', 'REAL', 0, None, 0),\n",
       " (5, 'primary_profession', 'TEXT', 0, None, 0),\n",
       " (6, 'known_for_titles', 'TEXT', 0, None, 0)]"
      ]
     },
     "execution_count": 5,
     "metadata": {},
     "output_type": "execute_result"
    }
   ],
   "source": [
    "q = \"PRAGMA table_info('imdb_name_basics')\"\n",
    "fetcha(q)"
   ]
  },
  {
   "cell_type": "code",
   "execution_count": 6,
   "metadata": {},
   "outputs": [
    {
     "data": {
      "text/plain": [
       "[(0, 'idx', 'INTEGER', 0, None, 1),\n",
       " (1, 'tconst', 'TEXT', 0, None, 0),\n",
       " (2, 'primary_title', 'TEXT', 0, None, 0),\n",
       " (3, 'original_title', 'TEXT', 0, None, 0),\n",
       " (4, 'start_year', 'INTEGER', 0, None, 0),\n",
       " (5, 'runtime_minutes', 'REAL', 0, None, 0),\n",
       " (6, 'genres', 'TEXT', 0, None, 0)]"
      ]
     },
     "execution_count": 6,
     "metadata": {},
     "output_type": "execute_result"
    }
   ],
   "source": [
    "q = \"PRAGMA table_info('imdb_title_basics')\"\n",
    "fetcha(q)"
   ]
  },
  {
   "cell_type": "code",
   "execution_count": 7,
   "metadata": {},
   "outputs": [
    {
     "data": {
      "text/plain": [
       "[(0, 'idx', 'INTEGER', 0, None, 1),\n",
       " (1, 'title', 'TEXT', 0, None, 0),\n",
       " (2, 'studio', 'TEXT', 0, None, 0),\n",
       " (3, 'domestic_gross', 'REAL', 0, None, 0),\n",
       " (4, 'foreign_gross', 'TEXT', 0, None, 0),\n",
       " (5, 'year', 'INTEGER', 0, None, 0)]"
      ]
     },
     "execution_count": 7,
     "metadata": {},
     "output_type": "execute_result"
    }
   ],
   "source": [
    "# getting column names\n",
    "q = \"PRAGMA table_info('bom_movie_gross')\"\n",
    "fetcha(q)"
   ]
  },
  {
   "cell_type": "code",
   "execution_count": 8,
   "metadata": {},
   "outputs": [
    {
     "data": {
      "text/html": [
       "<div>\n",
       "<style scoped>\n",
       "    .dataframe tbody tr th:only-of-type {\n",
       "        vertical-align: middle;\n",
       "    }\n",
       "\n",
       "    .dataframe tbody tr th {\n",
       "        vertical-align: top;\n",
       "    }\n",
       "\n",
       "    .dataframe thead th {\n",
       "        text-align: right;\n",
       "    }\n",
       "</style>\n",
       "<table border=\"1\" class=\"dataframe\">\n",
       "  <thead>\n",
       "    <tr style=\"text-align: right;\">\n",
       "      <th></th>\n",
       "      <th>idx</th>\n",
       "      <th>nconst</th>\n",
       "      <th>primary_name</th>\n",
       "      <th>birth_year</th>\n",
       "      <th>death_year</th>\n",
       "      <th>primary_profession</th>\n",
       "      <th>known_for_titles</th>\n",
       "      <th>idx</th>\n",
       "      <th>tconst</th>\n",
       "      <th>ordering</th>\n",
       "      <th>...</th>\n",
       "      <th>original_title</th>\n",
       "      <th>start_year</th>\n",
       "      <th>runtime_minutes</th>\n",
       "      <th>genres</th>\n",
       "      <th>idx</th>\n",
       "      <th>title</th>\n",
       "      <th>studio</th>\n",
       "      <th>domestic_gross</th>\n",
       "      <th>foreign_gross</th>\n",
       "      <th>year</th>\n",
       "    </tr>\n",
       "  </thead>\n",
       "  <tbody>\n",
       "    <tr>\n",
       "      <th>0</th>\n",
       "      <td>0</td>\n",
       "      <td>nm0061671</td>\n",
       "      <td>Mary Ellen Bauder</td>\n",
       "      <td>NaN</td>\n",
       "      <td>NaN</td>\n",
       "      <td>miscellaneous,production_manager,producer</td>\n",
       "      <td>tt0837562,tt2398241,tt0844471,tt0118553</td>\n",
       "      <td>466550</td>\n",
       "      <td>tt2398241</td>\n",
       "      <td>9</td>\n",
       "      <td>...</td>\n",
       "      <td>Smurfs: The Lost Village</td>\n",
       "      <td>2017</td>\n",
       "      <td>90.0</td>\n",
       "      <td>Adventure,Animation,Comedy</td>\n",
       "      <td>2804</td>\n",
       "      <td>Smurfs: The Lost Village</td>\n",
       "      <td>Sony</td>\n",
       "      <td>45000000.0</td>\n",
       "      <td>152200000</td>\n",
       "      <td>2017</td>\n",
       "    </tr>\n",
       "  </tbody>\n",
       "</table>\n",
       "<p>1 rows × 25 columns</p>\n",
       "</div>"
      ],
      "text/plain": [
       "  idx     nconst       primary_name  birth_year  death_year  \\\n",
       "0   0  nm0061671  Mary Ellen Bauder         NaN         NaN   \n",
       "\n",
       "                          primary_profession  \\\n",
       "0  miscellaneous,production_manager,producer   \n",
       "\n",
       "                          known_for_titles     idx     tconst  ordering  ...  \\\n",
       "0  tt0837562,tt2398241,tt0844471,tt0118553  466550  tt2398241         9  ...   \n",
       "\n",
       "             original_title start_year runtime_minutes  \\\n",
       "0  Smurfs: The Lost Village       2017            90.0   \n",
       "\n",
       "                       genres   idx                     title  studio  \\\n",
       "0  Adventure,Animation,Comedy  2804  Smurfs: The Lost Village    Sony   \n",
       "\n",
       "   domestic_gross foreign_gross  year  \n",
       "0      45000000.0     152200000  2017  \n",
       "\n",
       "[1 rows x 25 columns]"
      ]
     },
     "execution_count": 8,
     "metadata": {},
     "output_type": "execute_result"
    }
   ],
   "source": [
    "# creating initial dataframe by joining the four tables and printing first row\n",
    "q = \"\"\"SELECT*FROM imdb_name_basics\n",
    "       JOIN imdb_title_principals \n",
    "       USING(nconst)\n",
    "       JOIN imdb_title_basics AS ib\n",
    "       USING(tconst)\n",
    "       JOIN bom_movie_gross AS bm\n",
    "       ON ib.primary_title = bm.title\n",
    "       \"\"\"\n",
    "df = pd.DataFrame(fetcha(q))\n",
    "df.columns = [i[0] for i in cur.description]\n",
    "df.head(1)     "
   ]
  },
  {
   "cell_type": "code",
   "execution_count": 9,
   "metadata": {},
   "outputs": [
    {
     "name": "stdout",
     "output_type": "stream",
     "text": [
      "<class 'pandas.core.frame.DataFrame'>\n",
      "RangeIndex: 31120 entries, 0 to 31119\n",
      "Data columns (total 25 columns):\n",
      " #   Column              Non-Null Count  Dtype  \n",
      "---  ------              --------------  -----  \n",
      " 0   idx                 31120 non-null  int64  \n",
      " 1   nconst              31120 non-null  object \n",
      " 2   primary_name        31120 non-null  object \n",
      " 3   birth_year          16444 non-null  float64\n",
      " 4   death_year          608 non-null    float64\n",
      " 5   primary_profession  30723 non-null  object \n",
      " 6   known_for_titles    30927 non-null  object \n",
      " 7   idx                 31120 non-null  int64  \n",
      " 8   tconst              31120 non-null  object \n",
      " 9   ordering            31120 non-null  int64  \n",
      " 10  category            31120 non-null  object \n",
      " 11  job                 10368 non-null  object \n",
      " 12  characters          12469 non-null  object \n",
      " 13  idx                 31120 non-null  int64  \n",
      " 14  primary_title       31120 non-null  object \n",
      " 15  original_title      31120 non-null  object \n",
      " 16  start_year          31120 non-null  int64  \n",
      " 17  runtime_minutes     30099 non-null  float64\n",
      " 18  genres              30975 non-null  object \n",
      " 19  idx                 31120 non-null  int64  \n",
      " 20  title               31120 non-null  object \n",
      " 21  studio              31090 non-null  object \n",
      " 22  domestic_gross      30893 non-null  float64\n",
      " 23  foreign_gross       18888 non-null  object \n",
      " 24  year                31120 non-null  int64  \n",
      "dtypes: float64(4), int64(7), object(14)\n",
      "memory usage: 5.9+ MB\n"
     ]
    }
   ],
   "source": [
    "# checking dtypes\n",
    "df.info()"
   ]
  },
  {
   "cell_type": "code",
   "execution_count": 10,
   "metadata": {},
   "outputs": [
    {
     "name": "stdout",
     "output_type": "stream",
     "text": [
      "<class 'pandas.core.frame.DataFrame'>\n",
      "RangeIndex: 31120 entries, 0 to 31119\n",
      "Data columns (total 25 columns):\n",
      " #   Column              Non-Null Count  Dtype  \n",
      "---  ------              --------------  -----  \n",
      " 0   idx                 31120 non-null  int64  \n",
      " 1   nconst              31120 non-null  object \n",
      " 2   primary_name        31120 non-null  object \n",
      " 3   birth_year          16444 non-null  float64\n",
      " 4   death_year          608 non-null    float64\n",
      " 5   primary_profession  30723 non-null  object \n",
      " 6   known_for_titles    30927 non-null  object \n",
      " 7   idx                 31120 non-null  int64  \n",
      " 8   tconst              31120 non-null  object \n",
      " 9   ordering            31120 non-null  int64  \n",
      " 10  category            31120 non-null  object \n",
      " 11  job                 10368 non-null  object \n",
      " 12  characters          12469 non-null  object \n",
      " 13  idx                 31120 non-null  int64  \n",
      " 14  primary_title       31120 non-null  object \n",
      " 15  original_title      31120 non-null  object \n",
      " 16  start_year          31120 non-null  int64  \n",
      " 17  runtime_minutes     30099 non-null  float64\n",
      " 18  genres              30975 non-null  object \n",
      " 19  idx                 31120 non-null  int64  \n",
      " 20  title               31120 non-null  object \n",
      " 21  studio              31090 non-null  object \n",
      " 22  domestic_gross      31120 non-null  float64\n",
      " 23  foreign_gross       31120 non-null  float64\n",
      " 24  year                31120 non-null  int64  \n",
      "dtypes: float64(5), int64(7), object(13)\n",
      "memory usage: 5.9+ MB\n"
     ]
    }
   ],
   "source": [
    "df.foreign_gross = pd.to_numeric(df.foreign_gross, errors='coerce')\n",
    "df.foreign_gross = df.foreign_gross.fillna(0)\n",
    "df.domestic_gross = df.domestic_gross.fillna(0)\n",
    "df.info()"
   ]
  },
  {
   "cell_type": "code",
   "execution_count": 11,
   "metadata": {},
   "outputs": [
    {
     "data": {
      "text/plain": [
       "idx                       0\n",
       "nconst                    0\n",
       "primary_name              0\n",
       "birth_year            14676\n",
       "death_year            30512\n",
       "primary_profession      397\n",
       "known_for_titles        193\n",
       "idx                       0\n",
       "tconst                    0\n",
       "ordering                  0\n",
       "category                  0\n",
       "job                   20752\n",
       "characters            18651\n",
       "idx                       0\n",
       "primary_title             0\n",
       "original_title            0\n",
       "start_year                0\n",
       "runtime_minutes        1021\n",
       "genres                  145\n",
       "idx                       0\n",
       "title                     0\n",
       "studio                   30\n",
       "domestic_gross            0\n",
       "foreign_gross             0\n",
       "year                      0\n",
       "dtype: int64"
      ]
     },
     "execution_count": 11,
     "metadata": {},
     "output_type": "execute_result"
    }
   ],
   "source": [
    "# checking numbers of NaNs\n",
    "df.isna().sum()"
   ]
  },
  {
   "cell_type": "code",
   "execution_count": 12,
   "metadata": {},
   "outputs": [
    {
     "data": {
      "text/html": [
       "<div>\n",
       "<style scoped>\n",
       "    .dataframe tbody tr th:only-of-type {\n",
       "        vertical-align: middle;\n",
       "    }\n",
       "\n",
       "    .dataframe tbody tr th {\n",
       "        vertical-align: top;\n",
       "    }\n",
       "\n",
       "    .dataframe thead th {\n",
       "        text-align: right;\n",
       "    }\n",
       "</style>\n",
       "<table border=\"1\" class=\"dataframe\">\n",
       "  <thead>\n",
       "    <tr style=\"text-align: right;\">\n",
       "      <th></th>\n",
       "      <th>primary_name</th>\n",
       "      <th>birth_year</th>\n",
       "      <th>death_year</th>\n",
       "      <th>category</th>\n",
       "      <th>genres</th>\n",
       "      <th>title</th>\n",
       "      <th>studio</th>\n",
       "      <th>domestic_gross</th>\n",
       "      <th>foreign_gross</th>\n",
       "      <th>year</th>\n",
       "    </tr>\n",
       "  </thead>\n",
       "  <tbody>\n",
       "    <tr>\n",
       "      <th>0</th>\n",
       "      <td>Mary Ellen Bauder</td>\n",
       "      <td>NaN</td>\n",
       "      <td>NaN</td>\n",
       "      <td>producer</td>\n",
       "      <td>Adventure,Animation,Comedy</td>\n",
       "      <td>Smurfs: The Lost Village</td>\n",
       "      <td>Sony</td>\n",
       "      <td>45000000.0</td>\n",
       "      <td>152200000.0</td>\n",
       "      <td>2017</td>\n",
       "    </tr>\n",
       "  </tbody>\n",
       "</table>\n",
       "</div>"
      ],
      "text/plain": [
       "        primary_name  birth_year  death_year  category  \\\n",
       "0  Mary Ellen Bauder         NaN         NaN  producer   \n",
       "\n",
       "                       genres                     title studio  \\\n",
       "0  Adventure,Animation,Comedy  Smurfs: The Lost Village   Sony   \n",
       "\n",
       "   domestic_gross  foreign_gross  year  \n",
       "0      45000000.0    152200000.0  2017  "
      ]
     },
     "execution_count": 12,
     "metadata": {},
     "output_type": "execute_result"
    }
   ],
   "source": [
    "# dropping extraneous columns\n",
    "df = df.drop(['idx', 'nconst', 'primary_profession', 'primary_title', 'original_title', 'known_for_titles', 'tconst', 'ordering', 'job', 'characters', 'start_year','runtime_minutes'], axis=1)\n",
    "df.head(1)"
   ]
  },
  {
   "cell_type": "code",
   "execution_count": 13,
   "metadata": {},
   "outputs": [
    {
     "data": {
      "text/html": [
       "<div>\n",
       "<style scoped>\n",
       "    .dataframe tbody tr th:only-of-type {\n",
       "        vertical-align: middle;\n",
       "    }\n",
       "\n",
       "    .dataframe tbody tr th {\n",
       "        vertical-align: top;\n",
       "    }\n",
       "\n",
       "    .dataframe thead th {\n",
       "        text-align: right;\n",
       "    }\n",
       "</style>\n",
       "<table border=\"1\" class=\"dataframe\">\n",
       "  <thead>\n",
       "    <tr style=\"text-align: right;\">\n",
       "      <th></th>\n",
       "      <th>primary_name</th>\n",
       "      <th>birth_year</th>\n",
       "      <th>death_year</th>\n",
       "      <th>category</th>\n",
       "      <th>genres</th>\n",
       "      <th>title</th>\n",
       "      <th>studio</th>\n",
       "      <th>domestic_gross</th>\n",
       "      <th>foreign_gross</th>\n",
       "      <th>year</th>\n",
       "      <th>total_gross</th>\n",
       "    </tr>\n",
       "  </thead>\n",
       "  <tbody>\n",
       "    <tr>\n",
       "      <th>0</th>\n",
       "      <td>Mary Ellen Bauder</td>\n",
       "      <td>NaN</td>\n",
       "      <td>NaN</td>\n",
       "      <td>producer</td>\n",
       "      <td>Adventure,Animation,Comedy</td>\n",
       "      <td>Smurfs: The Lost Village</td>\n",
       "      <td>Sony</td>\n",
       "      <td>45000000.0</td>\n",
       "      <td>152200000.0</td>\n",
       "      <td>2017</td>\n",
       "      <td>197200000.0</td>\n",
       "    </tr>\n",
       "  </tbody>\n",
       "</table>\n",
       "</div>"
      ],
      "text/plain": [
       "        primary_name  birth_year  death_year  category  \\\n",
       "0  Mary Ellen Bauder         NaN         NaN  producer   \n",
       "\n",
       "                       genres                     title studio  \\\n",
       "0  Adventure,Animation,Comedy  Smurfs: The Lost Village   Sony   \n",
       "\n",
       "   domestic_gross  foreign_gross  year  total_gross  \n",
       "0      45000000.0    152200000.0  2017  197200000.0  "
      ]
     },
     "execution_count": 13,
     "metadata": {},
     "output_type": "execute_result"
    }
   ],
   "source": [
    "# creating a total_gross column\n",
    "df['total_gross'] = df.domestic_gross + df.foreign_gross\n",
    "df.head(1)"
   ]
  },
  {
   "cell_type": "code",
   "execution_count": 14,
   "metadata": {},
   "outputs": [
    {
     "data": {
      "text/plain": [
       "array(['producer', 'composer', 'actor', 'director', 'cinematographer',\n",
       "       'writer', 'actress', 'production_designer', 'self', 'editor',\n",
       "       'archive_footage', 'archive_sound'], dtype=object)"
      ]
     },
     "execution_count": 14,
     "metadata": {},
     "output_type": "execute_result"
    }
   ],
   "source": [
    "df.category.unique()"
   ]
  },
  {
   "cell_type": "code",
   "execution_count": 42,
   "metadata": {},
   "outputs": [
    {
     "data": {
      "text/html": [
       "<div>\n",
       "<style scoped>\n",
       "    .dataframe tbody tr th:only-of-type {\n",
       "        vertical-align: middle;\n",
       "    }\n",
       "\n",
       "    .dataframe tbody tr th {\n",
       "        vertical-align: top;\n",
       "    }\n",
       "\n",
       "    .dataframe thead th {\n",
       "        text-align: right;\n",
       "    }\n",
       "</style>\n",
       "<table border=\"1\" class=\"dataframe\">\n",
       "  <thead>\n",
       "    <tr style=\"text-align: right;\">\n",
       "      <th></th>\n",
       "      <th>title</th>\n",
       "      <th>total_gross</th>\n",
       "      <th>year</th>\n",
       "    </tr>\n",
       "  </thead>\n",
       "  <tbody>\n",
       "    <tr>\n",
       "      <th>223</th>\n",
       "      <td>Avengers: Age of Ultron</td>\n",
       "      <td>1.405400e+09</td>\n",
       "      <td>2015</td>\n",
       "    </tr>\n",
       "    <tr>\n",
       "      <th>311</th>\n",
       "      <td>Black Panther</td>\n",
       "      <td>1.347000e+09</td>\n",
       "      <td>2018</td>\n",
       "    </tr>\n",
       "    <tr>\n",
       "      <th>1763</th>\n",
       "      <td>Star Wars: The Last Jedi</td>\n",
       "      <td>1.332600e+09</td>\n",
       "      <td>2017</td>\n",
       "    </tr>\n",
       "    <tr>\n",
       "      <th>1032</th>\n",
       "      <td>Jurassic World: Fallen Kingdom</td>\n",
       "      <td>1.309500e+09</td>\n",
       "      <td>2018</td>\n",
       "    </tr>\n",
       "    <tr>\n",
       "      <th>734</th>\n",
       "      <td>Frozen</td>\n",
       "      <td>1.276400e+09</td>\n",
       "      <td>2013</td>\n",
       "    </tr>\n",
       "  </tbody>\n",
       "</table>\n",
       "</div>"
      ],
      "text/plain": [
       "                               title   total_gross  year\n",
       "223          Avengers: Age of Ultron  1.405400e+09  2015\n",
       "311                    Black Panther  1.347000e+09  2018\n",
       "1763        Star Wars: The Last Jedi  1.332600e+09  2017\n",
       "1032  Jurassic World: Fallen Kingdom  1.309500e+09  2018\n",
       "734                           Frozen  1.276400e+09  2013"
      ]
     },
     "execution_count": 42,
     "metadata": {},
     "output_type": "execute_result"
    }
   ],
   "source": [
    "title_gross = df[['title', 'total_gross', 'year']]\n",
    "unique_titles = title_gross.groupby('title').first().reset_index()\n",
    "top50_grossing_films = unique_titles.sort_values(by='total_gross', ascending=False).head(50)\n",
    "top50_grossing_films.head()"
   ]
  },
  {
   "cell_type": "code",
   "execution_count": 47,
   "metadata": {},
   "outputs": [
    {
     "name": "stdout",
     "output_type": "stream",
     "text": [
      "[2015 2018 2017 2013 2016 2011 2012 2014 2010]\n",
      "9\n"
     ]
    },
    {
     "data": {
      "text/plain": [
       "array([2010, 2011, 2012, 2013, 2014, 2015, 2016, 2017, 2018], dtype=int64)"
      ]
     },
     "execution_count": 47,
     "metadata": {},
     "output_type": "execute_result"
    }
   ],
   "source": [
    "years1 = top50_grossing_films.year.unique()\n",
    "print(years1)\n",
    "print(len(years1))\n",
    "np.sort(years1)"
   ]
  },
  {
   "cell_type": "code",
   "execution_count": 26,
   "metadata": {},
   "outputs": [
    {
     "data": {
      "text/html": [
       "<div>\n",
       "<style scoped>\n",
       "    .dataframe tbody tr th:only-of-type {\n",
       "        vertical-align: middle;\n",
       "    }\n",
       "\n",
       "    .dataframe tbody tr th {\n",
       "        vertical-align: top;\n",
       "    }\n",
       "\n",
       "    .dataframe thead th {\n",
       "        text-align: right;\n",
       "    }\n",
       "</style>\n",
       "<table border=\"1\" class=\"dataframe\">\n",
       "  <thead>\n",
       "    <tr style=\"text-align: right;\">\n",
       "      <th></th>\n",
       "      <th>primary_name</th>\n",
       "      <th>birth_year</th>\n",
       "      <th>death_year</th>\n",
       "      <th>category</th>\n",
       "      <th>genres</th>\n",
       "      <th>title</th>\n",
       "      <th>studio</th>\n",
       "      <th>domestic_gross</th>\n",
       "      <th>foreign_gross</th>\n",
       "      <th>year</th>\n",
       "      <th>total_gross</th>\n",
       "    </tr>\n",
       "  </thead>\n",
       "  <tbody>\n",
       "    <tr>\n",
       "      <th>10</th>\n",
       "      <td>Matt Bomer</td>\n",
       "      <td>1977.0</td>\n",
       "      <td>NaN</td>\n",
       "      <td>actor</td>\n",
       "      <td>Comedy,Drama,Music</td>\n",
       "      <td>Magic Mike XXL</td>\n",
       "      <td>WB</td>\n",
       "      <td>66000000.0</td>\n",
       "      <td>56500000.0</td>\n",
       "      <td>2015</td>\n",
       "      <td>122500000.0</td>\n",
       "    </tr>\n",
       "  </tbody>\n",
       "</table>\n",
       "</div>"
      ],
      "text/plain": [
       "   primary_name  birth_year  death_year category              genres  \\\n",
       "10   Matt Bomer      1977.0         NaN    actor  Comedy,Drama,Music   \n",
       "\n",
       "             title studio  domestic_gross  foreign_gross  year  total_gross  \n",
       "10  Magic Mike XXL     WB      66000000.0     56500000.0  2015  122500000.0  "
      ]
     },
     "execution_count": 26,
     "metadata": {},
     "output_type": "execute_result"
    }
   ],
   "source": [
    "actor_df = df[df['category'].str.contains('actor')]\n",
    "actor_df.head(1)"
   ]
  },
  {
   "cell_type": "code",
   "execution_count": 44,
   "metadata": {},
   "outputs": [
    {
     "data": {
      "text/html": [
       "<div>\n",
       "<style scoped>\n",
       "    .dataframe tbody tr th:only-of-type {\n",
       "        vertical-align: middle;\n",
       "    }\n",
       "\n",
       "    .dataframe tbody tr th {\n",
       "        vertical-align: top;\n",
       "    }\n",
       "\n",
       "    .dataframe thead th {\n",
       "        text-align: right;\n",
       "    }\n",
       "</style>\n",
       "<table border=\"1\" class=\"dataframe\">\n",
       "  <thead>\n",
       "    <tr style=\"text-align: right;\">\n",
       "      <th></th>\n",
       "      <th>primary_name</th>\n",
       "      <th>title</th>\n",
       "      <th>total_gross</th>\n",
       "      <th>year</th>\n",
       "    </tr>\n",
       "  </thead>\n",
       "  <tbody>\n",
       "    <tr>\n",
       "      <th>6661</th>\n",
       "      <td>Chris Hemsworth</td>\n",
       "      <td>Avengers: Age of Ultron</td>\n",
       "      <td>1.405400e+09</td>\n",
       "      <td>2015</td>\n",
       "    </tr>\n",
       "    <tr>\n",
       "      <th>11514</th>\n",
       "      <td>Robert Downey Jr.</td>\n",
       "      <td>Avengers: Age of Ultron</td>\n",
       "      <td>1.405400e+09</td>\n",
       "      <td>2015</td>\n",
       "    </tr>\n",
       "    <tr>\n",
       "      <th>5556</th>\n",
       "      <td>Mark Ruffalo</td>\n",
       "      <td>Avengers: Age of Ultron</td>\n",
       "      <td>1.405400e+09</td>\n",
       "      <td>2015</td>\n",
       "    </tr>\n",
       "    <tr>\n",
       "      <th>10408</th>\n",
       "      <td>Chris Evans</td>\n",
       "      <td>Avengers: Age of Ultron</td>\n",
       "      <td>1.405400e+09</td>\n",
       "      <td>2015</td>\n",
       "    </tr>\n",
       "    <tr>\n",
       "      <th>21696</th>\n",
       "      <td>Chadwick Boseman</td>\n",
       "      <td>Black Panther</td>\n",
       "      <td>1.347000e+09</td>\n",
       "      <td>2018</td>\n",
       "    </tr>\n",
       "  </tbody>\n",
       "</table>\n",
       "</div>"
      ],
      "text/plain": [
       "            primary_name                    title   total_gross  year\n",
       "6661     Chris Hemsworth  Avengers: Age of Ultron  1.405400e+09  2015\n",
       "11514  Robert Downey Jr.  Avengers: Age of Ultron  1.405400e+09  2015\n",
       "5556        Mark Ruffalo  Avengers: Age of Ultron  1.405400e+09  2015\n",
       "10408        Chris Evans  Avengers: Age of Ultron  1.405400e+09  2015\n",
       "21696   Chadwick Boseman            Black Panther  1.347000e+09  2018"
      ]
     },
     "execution_count": 44,
     "metadata": {},
     "output_type": "execute_result"
    }
   ],
   "source": [
    "top_actors_films = actor_df.sort_values(by=['total_gross'], ascending=False).head(50)\n",
    "top_actors_films[['primary_name', 'title', 'total_gross', 'year']].head()"
   ]
  },
  {
   "cell_type": "code",
   "execution_count": 49,
   "metadata": {},
   "outputs": [
    {
     "name": "stdout",
     "output_type": "stream",
     "text": [
      "[2015 2018 2017 2013 2016 2011 2012 2014 2010]\n",
      "9\n"
     ]
    },
    {
     "data": {
      "text/plain": [
       "array([2010, 2011, 2012, 2013, 2014, 2015, 2016, 2017, 2018], dtype=int64)"
      ]
     },
     "execution_count": 49,
     "metadata": {},
     "output_type": "execute_result"
    }
   ],
   "source": [
    "years2 = top_actors_films.year.unique()\n",
    "print(years2)\n",
    "print(len(years2))\n",
    "np.sort(years2)"
   ]
  },
  {
   "cell_type": "code",
   "execution_count": 41,
   "metadata": {},
   "outputs": [
    {
     "data": {
      "text/plain": [
       "primary_name\n",
       "Robert Downey Jr.    6.843800e+09\n",
       "Dwayne Johnson       5.674800e+09\n",
       "Chris Hemsworth      4.841100e+09\n",
       "Chris Evans          4.512106e+09\n",
       "Johnny Depp          4.188000e+09\n",
       "Mark Ruffalo         4.130746e+09\n",
       "Mark Wahlberg        4.028500e+09\n",
       "Vin Diesel           3.876200e+09\n",
       "Chris Pratt          3.835803e+09\n",
       "Liam Hemsworth       3.777500e+09\n",
       "Ian McKellen         3.712600e+09\n",
       "Steve Carell         3.604519e+09\n",
       "Josh Hutcherson      3.575596e+09\n",
       "Tom Cruise           3.400000e+09\n",
       "Bradley Cooper       3.328580e+09\n",
       "Woody Harrelson      3.306473e+09\n",
       "Ryan Reynolds        3.272213e+09\n",
       "Martin Freeman       3.127949e+09\n",
       "Andy Serkis          3.078200e+09\n",
       "Samuel L. Jackson    3.008031e+09\n",
       "Name: total_gross, dtype: float64"
      ]
     },
     "execution_count": 41,
     "metadata": {},
     "output_type": "execute_result"
    }
   ],
   "source": [
    "top20_grossing_actors = actor_df.groupby(['primary_name']).total_gross.sum().sort_values(ascending=False).head(20)\n",
    "top20_grossing_actors"
   ]
  },
  {
   "cell_type": "code",
   "execution_count": 50,
   "metadata": {},
   "outputs": [
    {
     "data": {
      "text/html": [
       "<div>\n",
       "<style scoped>\n",
       "    .dataframe tbody tr th:only-of-type {\n",
       "        vertical-align: middle;\n",
       "    }\n",
       "\n",
       "    .dataframe tbody tr th {\n",
       "        vertical-align: top;\n",
       "    }\n",
       "\n",
       "    .dataframe thead th {\n",
       "        text-align: right;\n",
       "    }\n",
       "</style>\n",
       "<table border=\"1\" class=\"dataframe\">\n",
       "  <thead>\n",
       "    <tr style=\"text-align: right;\">\n",
       "      <th></th>\n",
       "      <th>primary_name</th>\n",
       "      <th>birth_year</th>\n",
       "      <th>death_year</th>\n",
       "      <th>category</th>\n",
       "      <th>genres</th>\n",
       "      <th>title</th>\n",
       "      <th>studio</th>\n",
       "      <th>domestic_gross</th>\n",
       "      <th>foreign_gross</th>\n",
       "      <th>year</th>\n",
       "      <th>total_gross</th>\n",
       "    </tr>\n",
       "  </thead>\n",
       "  <tbody>\n",
       "    <tr>\n",
       "      <th>26</th>\n",
       "      <td>Agata Buzek</td>\n",
       "      <td>1976.0</td>\n",
       "      <td>NaN</td>\n",
       "      <td>actress</td>\n",
       "      <td>Drama,History</td>\n",
       "      <td>The Innocents</td>\n",
       "      <td>MBox</td>\n",
       "      <td>1100000.0</td>\n",
       "      <td>0.0</td>\n",
       "      <td>2016</td>\n",
       "      <td>1100000.0</td>\n",
       "    </tr>\n",
       "    <tr>\n",
       "      <th>27</th>\n",
       "      <td>Anita Caprioli</td>\n",
       "      <td>1973.0</td>\n",
       "      <td>NaN</td>\n",
       "      <td>actress</td>\n",
       "      <td>Drama</td>\n",
       "      <td>Corpo Celeste</td>\n",
       "      <td>FM</td>\n",
       "      <td>8900.0</td>\n",
       "      <td>0.0</td>\n",
       "      <td>2012</td>\n",
       "      <td>8900.0</td>\n",
       "    </tr>\n",
       "    <tr>\n",
       "      <th>28</th>\n",
       "      <td>Valentina Carnelutti</td>\n",
       "      <td>1973.0</td>\n",
       "      <td>NaN</td>\n",
       "      <td>actress</td>\n",
       "      <td>Comedy,Drama</td>\n",
       "      <td>Like Crazy</td>\n",
       "      <td>ParV</td>\n",
       "      <td>3400000.0</td>\n",
       "      <td>336000.0</td>\n",
       "      <td>2011</td>\n",
       "      <td>3736000.0</td>\n",
       "    </tr>\n",
       "    <tr>\n",
       "      <th>130</th>\n",
       "      <td>Kate McKinnon</td>\n",
       "      <td>1984.0</td>\n",
       "      <td>NaN</td>\n",
       "      <td>actress</td>\n",
       "      <td>Adventure,Animation,Comedy</td>\n",
       "      <td>Ferdinand</td>\n",
       "      <td>Fox</td>\n",
       "      <td>84400000.0</td>\n",
       "      <td>211700000.0</td>\n",
       "      <td>2017</td>\n",
       "      <td>296100000.0</td>\n",
       "    </tr>\n",
       "    <tr>\n",
       "      <th>131</th>\n",
       "      <td>Kate McKinnon</td>\n",
       "      <td>1984.0</td>\n",
       "      <td>NaN</td>\n",
       "      <td>actress</td>\n",
       "      <td>Comedy,Crime,Thriller</td>\n",
       "      <td>Rough Night</td>\n",
       "      <td>Sony</td>\n",
       "      <td>22100000.0</td>\n",
       "      <td>25200000.0</td>\n",
       "      <td>2017</td>\n",
       "      <td>47300000.0</td>\n",
       "    </tr>\n",
       "  </tbody>\n",
       "</table>\n",
       "</div>"
      ],
      "text/plain": [
       "             primary_name  birth_year  death_year category  \\\n",
       "26            Agata Buzek      1976.0         NaN  actress   \n",
       "27         Anita Caprioli      1973.0         NaN  actress   \n",
       "28   Valentina Carnelutti      1973.0         NaN  actress   \n",
       "130         Kate McKinnon      1984.0         NaN  actress   \n",
       "131         Kate McKinnon      1984.0         NaN  actress   \n",
       "\n",
       "                         genres          title studio  domestic_gross  \\\n",
       "26                Drama,History  The Innocents   MBox       1100000.0   \n",
       "27                        Drama  Corpo Celeste     FM          8900.0   \n",
       "28                 Comedy,Drama     Like Crazy   ParV       3400000.0   \n",
       "130  Adventure,Animation,Comedy      Ferdinand    Fox      84400000.0   \n",
       "131       Comedy,Crime,Thriller    Rough Night   Sony      22100000.0   \n",
       "\n",
       "     foreign_gross  year  total_gross  \n",
       "26             0.0  2016    1100000.0  \n",
       "27             0.0  2012       8900.0  \n",
       "28        336000.0  2011    3736000.0  \n",
       "130    211700000.0  2017  296100000.0  \n",
       "131     25200000.0  2017   47300000.0  "
      ]
     },
     "execution_count": 50,
     "metadata": {},
     "output_type": "execute_result"
    }
   ],
   "source": [
    "actress_df = df[df['category'].str.contains('actress')]\n",
    "actress_df.head()"
   ]
  },
  {
   "cell_type": "code",
   "execution_count": 52,
   "metadata": {},
   "outputs": [
    {
     "data": {
      "text/html": [
       "<div>\n",
       "<style scoped>\n",
       "    .dataframe tbody tr th:only-of-type {\n",
       "        vertical-align: middle;\n",
       "    }\n",
       "\n",
       "    .dataframe tbody tr th {\n",
       "        vertical-align: top;\n",
       "    }\n",
       "\n",
       "    .dataframe thead th {\n",
       "        text-align: right;\n",
       "    }\n",
       "</style>\n",
       "<table border=\"1\" class=\"dataframe\">\n",
       "  <thead>\n",
       "    <tr style=\"text-align: right;\">\n",
       "      <th></th>\n",
       "      <th>primary_name</th>\n",
       "      <th>title</th>\n",
       "      <th>total_gross</th>\n",
       "      <th>year</th>\n",
       "    </tr>\n",
       "  </thead>\n",
       "  <tbody>\n",
       "    <tr>\n",
       "      <th>22982</th>\n",
       "      <td>Danai Gurira</td>\n",
       "      <td>Black Panther</td>\n",
       "      <td>1.347000e+09</td>\n",
       "      <td>2018</td>\n",
       "    </tr>\n",
       "    <tr>\n",
       "      <th>21255</th>\n",
       "      <td>Lupita Nyong'o</td>\n",
       "      <td>Black Panther</td>\n",
       "      <td>1.347000e+09</td>\n",
       "      <td>2018</td>\n",
       "    </tr>\n",
       "    <tr>\n",
       "      <th>2620</th>\n",
       "      <td>Carrie Fisher</td>\n",
       "      <td>Star Wars: The Last Jedi</td>\n",
       "      <td>1.332600e+09</td>\n",
       "      <td>2017</td>\n",
       "    </tr>\n",
       "    <tr>\n",
       "      <th>28562</th>\n",
       "      <td>Daisy Ridley</td>\n",
       "      <td>Star Wars: The Last Jedi</td>\n",
       "      <td>1.332600e+09</td>\n",
       "      <td>2017</td>\n",
       "    </tr>\n",
       "    <tr>\n",
       "      <th>8560</th>\n",
       "      <td>Bryce Dallas Howard</td>\n",
       "      <td>Jurassic World: Fallen Kingdom</td>\n",
       "      <td>1.309500e+09</td>\n",
       "      <td>2018</td>\n",
       "    </tr>\n",
       "  </tbody>\n",
       "</table>\n",
       "</div>"
      ],
      "text/plain": [
       "              primary_name                           title   total_gross  year\n",
       "22982         Danai Gurira                   Black Panther  1.347000e+09  2018\n",
       "21255       Lupita Nyong'o                   Black Panther  1.347000e+09  2018\n",
       "2620         Carrie Fisher        Star Wars: The Last Jedi  1.332600e+09  2017\n",
       "28562         Daisy Ridley        Star Wars: The Last Jedi  1.332600e+09  2017\n",
       "8560   Bryce Dallas Howard  Jurassic World: Fallen Kingdom  1.309500e+09  2018"
      ]
     },
     "execution_count": 52,
     "metadata": {},
     "output_type": "execute_result"
    }
   ],
   "source": [
    "top_actresses_films = actress_df.sort_values(by=['total_gross'], ascending=False).head(50)\n",
    "top_actresses_films[['primary_name', 'title', 'total_gross', 'year']].head()"
   ]
  },
  {
   "cell_type": "code",
   "execution_count": 51,
   "metadata": {},
   "outputs": [
    {
     "data": {
      "text/plain": [
       "primary_name\n",
       "Jennifer Lawrence      4.653512e+09\n",
       "Anne Hathaway          3.519832e+09\n",
       "Emma Stone             3.369300e+09\n",
       "Kristen Wiig           3.324740e+09\n",
       "Scarlett Johansson     3.232600e+09\n",
       "Cate Blanchett         3.126966e+09\n",
       "Zoe Saldana            2.568500e+09\n",
       "Amy Adams              2.544844e+09\n",
       "Angelina Jolie         2.520338e+09\n",
       "Emily Blunt            2.450122e+09\n",
       "Bryce Dallas Howard    2.337700e+09\n",
       "Rachel McAdams         2.193292e+09\n",
       "Sandra Bullock         2.167700e+09\n",
       "Gwyneth Paltrow        2.043110e+09\n",
       "Gal Gadot              2.038900e+09\n",
       "Miranda Cosgrove       2.005600e+09\n",
       "Jessica Chastain       1.991358e+09\n",
       "Kristen Bell           1.762799e+09\n",
       "Mila Kunis             1.760303e+09\n",
       "Judi Dench             1.727900e+09\n",
       "Name: total_gross, dtype: float64"
      ]
     },
     "execution_count": 51,
     "metadata": {},
     "output_type": "execute_result"
    }
   ],
   "source": [
    "top20_grossing_actresses = actress_df.groupby(['primary_name']).total_gross.sum().sort_values(ascending=False).head(20)\n",
    "top20_grossing_actresses"
   ]
  },
  {
   "cell_type": "code",
   "execution_count": 53,
   "metadata": {},
   "outputs": [
    {
     "data": {
      "text/html": [
       "<div>\n",
       "<style scoped>\n",
       "    .dataframe tbody tr th:only-of-type {\n",
       "        vertical-align: middle;\n",
       "    }\n",
       "\n",
       "    .dataframe tbody tr th {\n",
       "        vertical-align: top;\n",
       "    }\n",
       "\n",
       "    .dataframe thead th {\n",
       "        text-align: right;\n",
       "    }\n",
       "</style>\n",
       "<table border=\"1\" class=\"dataframe\">\n",
       "  <thead>\n",
       "    <tr style=\"text-align: right;\">\n",
       "      <th></th>\n",
       "      <th>primary_name</th>\n",
       "      <th>birth_year</th>\n",
       "      <th>death_year</th>\n",
       "      <th>category</th>\n",
       "      <th>genres</th>\n",
       "      <th>title</th>\n",
       "      <th>studio</th>\n",
       "      <th>domestic_gross</th>\n",
       "      <th>foreign_gross</th>\n",
       "      <th>year</th>\n",
       "      <th>total_gross</th>\n",
       "    </tr>\n",
       "  </thead>\n",
       "  <tbody>\n",
       "    <tr>\n",
       "      <th>12</th>\n",
       "      <td>Gilles Bourdos</td>\n",
       "      <td>1963.0</td>\n",
       "      <td>NaN</td>\n",
       "      <td>director</td>\n",
       "      <td>Biography,Drama,History</td>\n",
       "      <td>Renoir</td>\n",
       "      <td>Gold.</td>\n",
       "      <td>2300000.0</td>\n",
       "      <td>0.0</td>\n",
       "      <td>2013</td>\n",
       "      <td>2300000.0</td>\n",
       "    </tr>\n",
       "    <tr>\n",
       "      <th>13</th>\n",
       "      <td>David Bowers</td>\n",
       "      <td>NaN</td>\n",
       "      <td>NaN</td>\n",
       "      <td>director</td>\n",
       "      <td>Comedy,Family</td>\n",
       "      <td>Diary of a Wimpy Kid: Rodrick Rules</td>\n",
       "      <td>Fox</td>\n",
       "      <td>52700000.0</td>\n",
       "      <td>19700000.0</td>\n",
       "      <td>2011</td>\n",
       "      <td>72400000.0</td>\n",
       "    </tr>\n",
       "    <tr>\n",
       "      <th>14</th>\n",
       "      <td>David Bowers</td>\n",
       "      <td>NaN</td>\n",
       "      <td>NaN</td>\n",
       "      <td>director</td>\n",
       "      <td>Comedy,Family</td>\n",
       "      <td>Diary of a Wimpy Kid: Dog Days</td>\n",
       "      <td>Fox</td>\n",
       "      <td>49000000.0</td>\n",
       "      <td>28100000.0</td>\n",
       "      <td>2012</td>\n",
       "      <td>77100000.0</td>\n",
       "    </tr>\n",
       "    <tr>\n",
       "      <th>15</th>\n",
       "      <td>David Bowers</td>\n",
       "      <td>NaN</td>\n",
       "      <td>NaN</td>\n",
       "      <td>director</td>\n",
       "      <td>Comedy,Family</td>\n",
       "      <td>Diary of a Wimpy Kid: The Long Haul</td>\n",
       "      <td>Fox</td>\n",
       "      <td>20700000.0</td>\n",
       "      <td>19400000.0</td>\n",
       "      <td>2017</td>\n",
       "      <td>40100000.0</td>\n",
       "    </tr>\n",
       "    <tr>\n",
       "      <th>31</th>\n",
       "      <td>Derek Cianfrance</td>\n",
       "      <td>1974.0</td>\n",
       "      <td>NaN</td>\n",
       "      <td>director</td>\n",
       "      <td>Drama,Romance</td>\n",
       "      <td>Blue Valentine</td>\n",
       "      <td>Wein.</td>\n",
       "      <td>9700000.0</td>\n",
       "      <td>2600000.0</td>\n",
       "      <td>2010</td>\n",
       "      <td>12300000.0</td>\n",
       "    </tr>\n",
       "  </tbody>\n",
       "</table>\n",
       "</div>"
      ],
      "text/plain": [
       "        primary_name  birth_year  death_year  category  \\\n",
       "12    Gilles Bourdos      1963.0         NaN  director   \n",
       "13      David Bowers         NaN         NaN  director   \n",
       "14      David Bowers         NaN         NaN  director   \n",
       "15      David Bowers         NaN         NaN  director   \n",
       "31  Derek Cianfrance      1974.0         NaN  director   \n",
       "\n",
       "                     genres                                title studio  \\\n",
       "12  Biography,Drama,History                               Renoir  Gold.   \n",
       "13            Comedy,Family  Diary of a Wimpy Kid: Rodrick Rules    Fox   \n",
       "14            Comedy,Family       Diary of a Wimpy Kid: Dog Days    Fox   \n",
       "15            Comedy,Family  Diary of a Wimpy Kid: The Long Haul    Fox   \n",
       "31            Drama,Romance                       Blue Valentine  Wein.   \n",
       "\n",
       "    domestic_gross  foreign_gross  year  total_gross  \n",
       "12       2300000.0            0.0  2013    2300000.0  \n",
       "13      52700000.0     19700000.0  2011   72400000.0  \n",
       "14      49000000.0     28100000.0  2012   77100000.0  \n",
       "15      20700000.0     19400000.0  2017   40100000.0  \n",
       "31       9700000.0      2600000.0  2010   12300000.0  "
      ]
     },
     "execution_count": 53,
     "metadata": {},
     "output_type": "execute_result"
    }
   ],
   "source": [
    "director_df = df[df['category'].str.contains('director')]\n",
    "director_df.head()"
   ]
  },
  {
   "cell_type": "code",
   "execution_count": 55,
   "metadata": {},
   "outputs": [
    {
     "data": {
      "text/html": [
       "<div>\n",
       "<style scoped>\n",
       "    .dataframe tbody tr th:only-of-type {\n",
       "        vertical-align: middle;\n",
       "    }\n",
       "\n",
       "    .dataframe tbody tr th {\n",
       "        vertical-align: top;\n",
       "    }\n",
       "\n",
       "    .dataframe thead th {\n",
       "        text-align: right;\n",
       "    }\n",
       "</style>\n",
       "<table border=\"1\" class=\"dataframe\">\n",
       "  <thead>\n",
       "    <tr style=\"text-align: right;\">\n",
       "      <th></th>\n",
       "      <th>primary_name</th>\n",
       "      <th>title</th>\n",
       "      <th>total_gross</th>\n",
       "      <th>year</th>\n",
       "    </tr>\n",
       "  </thead>\n",
       "  <tbody>\n",
       "    <tr>\n",
       "      <th>14088</th>\n",
       "      <td>Joss Whedon</td>\n",
       "      <td>Avengers: Age of Ultron</td>\n",
       "      <td>1.405400e+09</td>\n",
       "      <td>2015</td>\n",
       "    </tr>\n",
       "    <tr>\n",
       "      <th>25963</th>\n",
       "      <td>Ryan Coogler</td>\n",
       "      <td>Black Panther</td>\n",
       "      <td>1.347000e+09</td>\n",
       "      <td>2018</td>\n",
       "    </tr>\n",
       "    <tr>\n",
       "      <th>920</th>\n",
       "      <td>Rian Johnson</td>\n",
       "      <td>Star Wars: The Last Jedi</td>\n",
       "      <td>1.332600e+09</td>\n",
       "      <td>2017</td>\n",
       "    </tr>\n",
       "    <tr>\n",
       "      <th>19944</th>\n",
       "      <td>J.A. Bayona</td>\n",
       "      <td>Jurassic World: Fallen Kingdom</td>\n",
       "      <td>1.309500e+09</td>\n",
       "      <td>2018</td>\n",
       "    </tr>\n",
       "    <tr>\n",
       "      <th>21133</th>\n",
       "      <td>Jennifer Lee</td>\n",
       "      <td>Frozen</td>\n",
       "      <td>1.276400e+09</td>\n",
       "      <td>2013</td>\n",
       "    </tr>\n",
       "  </tbody>\n",
       "</table>\n",
       "</div>"
      ],
      "text/plain": [
       "       primary_name                           title   total_gross  year\n",
       "14088   Joss Whedon         Avengers: Age of Ultron  1.405400e+09  2015\n",
       "25963  Ryan Coogler                   Black Panther  1.347000e+09  2018\n",
       "920    Rian Johnson        Star Wars: The Last Jedi  1.332600e+09  2017\n",
       "19944   J.A. Bayona  Jurassic World: Fallen Kingdom  1.309500e+09  2018\n",
       "21133  Jennifer Lee                          Frozen  1.276400e+09  2013"
      ]
     },
     "execution_count": 55,
     "metadata": {},
     "output_type": "execute_result"
    }
   ],
   "source": [
    "top_directors_films = director_df.sort_values(by=['total_gross'], ascending=False).head(50)\n",
    "top_directors_films[['primary_name', 'title', 'total_gross', 'year']].head()"
   ]
  },
  {
   "cell_type": "code",
   "execution_count": 57,
   "metadata": {},
   "outputs": [
    {
     "data": {
      "text/plain": [
       "primary_name\n",
       "Christopher Nolan    3.115800e+09\n",
       "Peter Jackson        2.953500e+09\n",
       "Michael Bay          2.833300e+09\n",
       "Pierre Coffin        2.548700e+09\n",
       "Joe Russo            2.546411e+09\n",
       "Anthony Russo        2.546411e+09\n",
       "Francis Lawrence     2.542400e+09\n",
       "Zack Snyder          2.429500e+09\n",
       "Bryan Singer         2.393000e+09\n",
       "Chris Renaud         2.389400e+09\n",
       "James Wan            2.237700e+09\n",
       "Kyle Balda           2.194200e+09\n",
       "Brad Bird            2.146600e+09\n",
       "Rich Moore           2.024200e+09\n",
       "Ridley Scott         1.992300e+09\n",
       "Sam Mendes           1.989300e+09\n",
       "Steven Spielberg     1.938500e+09\n",
       "Lee Unkrich          1.874100e+09\n",
       "Mike Mitchell        1.767400e+09\n",
       "Justin Lin           1.758200e+09\n",
       "Name: total_gross, dtype: float64"
      ]
     },
     "execution_count": 57,
     "metadata": {},
     "output_type": "execute_result"
    }
   ],
   "source": [
    "top20_grossing_directors = director_df.groupby(['primary_name']).total_gross.sum().sort_values(ascending=False).head(20)\n",
    "top20_grossing_directors"
   ]
  },
  {
   "cell_type": "code",
   "execution_count": 58,
   "metadata": {},
   "outputs": [
    {
     "data": {
      "text/html": [
       "<div>\n",
       "<style scoped>\n",
       "    .dataframe tbody tr th:only-of-type {\n",
       "        vertical-align: middle;\n",
       "    }\n",
       "\n",
       "    .dataframe tbody tr th {\n",
       "        vertical-align: top;\n",
       "    }\n",
       "\n",
       "    .dataframe thead th {\n",
       "        text-align: right;\n",
       "    }\n",
       "</style>\n",
       "<table border=\"1\" class=\"dataframe\">\n",
       "  <thead>\n",
       "    <tr style=\"text-align: right;\">\n",
       "      <th></th>\n",
       "      <th>primary_name</th>\n",
       "      <th>birth_year</th>\n",
       "      <th>death_year</th>\n",
       "      <th>category</th>\n",
       "      <th>genres</th>\n",
       "      <th>title</th>\n",
       "      <th>studio</th>\n",
       "      <th>domestic_gross</th>\n",
       "      <th>foreign_gross</th>\n",
       "      <th>year</th>\n",
       "      <th>total_gross</th>\n",
       "    </tr>\n",
       "  </thead>\n",
       "  <tbody>\n",
       "    <tr>\n",
       "      <th>0</th>\n",
       "      <td>Mary Ellen Bauder</td>\n",
       "      <td>NaN</td>\n",
       "      <td>NaN</td>\n",
       "      <td>producer</td>\n",
       "      <td>Adventure,Animation,Comedy</td>\n",
       "      <td>Smurfs: The Lost Village</td>\n",
       "      <td>Sony</td>\n",
       "      <td>45000000.0</td>\n",
       "      <td>152200000.0</td>\n",
       "      <td>2017</td>\n",
       "      <td>197200000.0</td>\n",
       "    </tr>\n",
       "    <tr>\n",
       "      <th>4</th>\n",
       "      <td>Terry Benedict</td>\n",
       "      <td>NaN</td>\n",
       "      <td>NaN</td>\n",
       "      <td>producer</td>\n",
       "      <td>Biography,Drama,History</td>\n",
       "      <td>Hacksaw Ridge</td>\n",
       "      <td>LGF</td>\n",
       "      <td>67200000.0</td>\n",
       "      <td>108100000.0</td>\n",
       "      <td>2016</td>\n",
       "      <td>175300000.0</td>\n",
       "    </tr>\n",
       "    <tr>\n",
       "      <th>5</th>\n",
       "      <td>Richard Berge</td>\n",
       "      <td>NaN</td>\n",
       "      <td>NaN</td>\n",
       "      <td>producer</td>\n",
       "      <td>Documentary</td>\n",
       "      <td>The Island President</td>\n",
       "      <td>Gold.</td>\n",
       "      <td>76400.0</td>\n",
       "      <td>0.0</td>\n",
       "      <td>2012</td>\n",
       "      <td>76400.0</td>\n",
       "    </tr>\n",
       "    <tr>\n",
       "      <th>6</th>\n",
       "      <td>Richard Berge</td>\n",
       "      <td>NaN</td>\n",
       "      <td>NaN</td>\n",
       "      <td>producer</td>\n",
       "      <td>Documentary</td>\n",
       "      <td>An Inconvenient Sequel: Truth to Power</td>\n",
       "      <td>Par.</td>\n",
       "      <td>3500000.0</td>\n",
       "      <td>1900000.0</td>\n",
       "      <td>2017</td>\n",
       "      <td>5400000.0</td>\n",
       "    </tr>\n",
       "    <tr>\n",
       "      <th>7</th>\n",
       "      <td>Sam Bisbee</td>\n",
       "      <td>NaN</td>\n",
       "      <td>NaN</td>\n",
       "      <td>producer</td>\n",
       "      <td>Comedy,Drama,Romance</td>\n",
       "      <td>Infinitely Polar Bear</td>\n",
       "      <td>SPC</td>\n",
       "      <td>1400000.0</td>\n",
       "      <td>0.0</td>\n",
       "      <td>2015</td>\n",
       "      <td>1400000.0</td>\n",
       "    </tr>\n",
       "  </tbody>\n",
       "</table>\n",
       "</div>"
      ],
      "text/plain": [
       "        primary_name  birth_year  death_year  category  \\\n",
       "0  Mary Ellen Bauder         NaN         NaN  producer   \n",
       "4     Terry Benedict         NaN         NaN  producer   \n",
       "5      Richard Berge         NaN         NaN  producer   \n",
       "6      Richard Berge         NaN         NaN  producer   \n",
       "7         Sam Bisbee         NaN         NaN  producer   \n",
       "\n",
       "                       genres                                   title studio  \\\n",
       "0  Adventure,Animation,Comedy                Smurfs: The Lost Village   Sony   \n",
       "4     Biography,Drama,History                           Hacksaw Ridge    LGF   \n",
       "5                 Documentary                    The Island President  Gold.   \n",
       "6                 Documentary  An Inconvenient Sequel: Truth to Power   Par.   \n",
       "7        Comedy,Drama,Romance                   Infinitely Polar Bear    SPC   \n",
       "\n",
       "   domestic_gross  foreign_gross  year  total_gross  \n",
       "0      45000000.0    152200000.0  2017  197200000.0  \n",
       "4      67200000.0    108100000.0  2016  175300000.0  \n",
       "5         76400.0            0.0  2012      76400.0  \n",
       "6       3500000.0      1900000.0  2017    5400000.0  \n",
       "7       1400000.0            0.0  2015    1400000.0  "
      ]
     },
     "execution_count": 58,
     "metadata": {},
     "output_type": "execute_result"
    }
   ],
   "source": [
    "producer_df = df[df['category'].str.contains('producer')]\n",
    "producer_df.head()"
   ]
  },
  {
   "cell_type": "code",
   "execution_count": 60,
   "metadata": {},
   "outputs": [
    {
     "data": {
      "text/html": [
       "<div>\n",
       "<style scoped>\n",
       "    .dataframe tbody tr th:only-of-type {\n",
       "        vertical-align: middle;\n",
       "    }\n",
       "\n",
       "    .dataframe tbody tr th {\n",
       "        vertical-align: top;\n",
       "    }\n",
       "\n",
       "    .dataframe thead th {\n",
       "        text-align: right;\n",
       "    }\n",
       "</style>\n",
       "<table border=\"1\" class=\"dataframe\">\n",
       "  <thead>\n",
       "    <tr style=\"text-align: right;\">\n",
       "      <th></th>\n",
       "      <th>primary_name</th>\n",
       "      <th>title</th>\n",
       "      <th>total_gross</th>\n",
       "      <th>year</th>\n",
       "    </tr>\n",
       "  </thead>\n",
       "  <tbody>\n",
       "    <tr>\n",
       "      <th>12696</th>\n",
       "      <td>Kevin Feige</td>\n",
       "      <td>Avengers: Age of Ultron</td>\n",
       "      <td>1.405400e+09</td>\n",
       "      <td>2015</td>\n",
       "    </tr>\n",
       "    <tr>\n",
       "      <th>12695</th>\n",
       "      <td>Kevin Feige</td>\n",
       "      <td>Black Panther</td>\n",
       "      <td>1.347000e+09</td>\n",
       "      <td>2018</td>\n",
       "    </tr>\n",
       "    <tr>\n",
       "      <th>10942</th>\n",
       "      <td>Ram Bergman</td>\n",
       "      <td>Star Wars: The Last Jedi</td>\n",
       "      <td>1.332600e+09</td>\n",
       "      <td>2017</td>\n",
       "    </tr>\n",
       "    <tr>\n",
       "      <th>5111</th>\n",
       "      <td>Kathleen Kennedy</td>\n",
       "      <td>Star Wars: The Last Jedi</td>\n",
       "      <td>1.332600e+09</td>\n",
       "      <td>2017</td>\n",
       "    </tr>\n",
       "    <tr>\n",
       "      <th>20589</th>\n",
       "      <td>Belén Atienza</td>\n",
       "      <td>Jurassic World: Fallen Kingdom</td>\n",
       "      <td>1.309500e+09</td>\n",
       "      <td>2018</td>\n",
       "    </tr>\n",
       "  </tbody>\n",
       "</table>\n",
       "</div>"
      ],
      "text/plain": [
       "           primary_name                           title   total_gross  year\n",
       "12696       Kevin Feige         Avengers: Age of Ultron  1.405400e+09  2015\n",
       "12695       Kevin Feige                   Black Panther  1.347000e+09  2018\n",
       "10942       Ram Bergman        Star Wars: The Last Jedi  1.332600e+09  2017\n",
       "5111   Kathleen Kennedy        Star Wars: The Last Jedi  1.332600e+09  2017\n",
       "20589     Belén Atienza  Jurassic World: Fallen Kingdom  1.309500e+09  2018"
      ]
     },
     "execution_count": 60,
     "metadata": {},
     "output_type": "execute_result"
    }
   ],
   "source": [
    "top_producers_films = producer_df.sort_values(by=['total_gross'], ascending=False).head(50)\n",
    "top_producers_films[['primary_name', 'title', 'total_gross', 'year']].head()"
   ]
  },
  {
   "cell_type": "code",
   "execution_count": 61,
   "metadata": {},
   "outputs": [
    {
     "data": {
      "text/plain": [
       "primary_name\n",
       "Janet Healy               4.674700e+09\n",
       "Peter Chernin             4.215900e+09\n",
       "Kevin Feige               3.800700e+09\n",
       "Lorenzo di Bonaventura    3.595100e+09\n",
       "Nina Jacobson             3.455500e+09\n",
       "Charles Roven             3.276200e+09\n",
       "Emma Thomas               3.115800e+09\n",
       "Jon Kilik                 3.031200e+09\n",
       "Christopher Meledandri    2.948400e+09\n",
       "Carolynne Cunningham      2.935500e+09\n",
       "Jason Blum                2.876453e+09\n",
       "Ian Bryce                 2.856400e+09\n",
       "Neal H. Moritz            2.746405e+09\n",
       "Simon Kinberg             2.718700e+09\n",
       "Don Murphy                2.711200e+09\n",
       "Tom DeSanto               2.695800e+09\n",
       "Patrick Crowley           2.490400e+09\n",
       "J.J. Abrams               2.380500e+09\n",
       "Kathleen Kennedy          2.283700e+09\n",
       "Michael De Luca           2.250976e+09\n",
       "Name: total_gross, dtype: float64"
      ]
     },
     "execution_count": 61,
     "metadata": {},
     "output_type": "execute_result"
    }
   ],
   "source": [
    "top20_grossing_producers = producer_df.groupby(['primary_name']).total_gross.sum().sort_values(ascending=False).head(20)\n",
    "top20_grossing_producers"
   ]
  },
  {
   "cell_type": "code",
   "execution_count": null,
   "metadata": {},
   "outputs": [],
   "source": []
  }
 ],
 "metadata": {
  "kernelspec": {
   "display_name": "learn-env",
   "language": "python",
   "name": "learn-env"
  },
  "language_info": {
   "codemirror_mode": {
    "name": "ipython",
    "version": 3
   },
   "file_extension": ".py",
   "mimetype": "text/x-python",
   "name": "python",
   "nbconvert_exporter": "python",
   "pygments_lexer": "ipython3",
   "version": "3.8.5"
  }
 },
 "nbformat": 4,
 "nbformat_minor": 4
}
